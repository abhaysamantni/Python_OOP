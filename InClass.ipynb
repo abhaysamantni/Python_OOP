{
 "cells": [
  {
   "cell_type": "code",
   "execution_count": 10,
   "metadata": {},
   "outputs": [
    {
     "name": "stdout",
     "output_type": "stream",
     "text": [
      "Black\n"
     ]
    }
   ],
   "source": [
    "class Shape():\n",
    "    def __init__(self):\n",
    "        self.fillColor = \"White\"\n",
    "        self.borderColor = \"Black\"\n",
    "\n",
    "    def set_fillColor(self, x):\n",
    "        self.fillColor = x\n",
    "    \n",
    "    def set_borderColor(self, y):\n",
    "        self.borderColor = y\n",
    "    \n",
    "    def get_borderColor(self):\n",
    "        return self.borderColor\n",
    "    \n",
    "    def get_fillColor(self):\n",
    "        return self.fillColor\n",
    "    \n",
    "\n",
    "    \n",
    "\n",
    "    "
   ]
  },
  {
   "cell_type": "code",
   "execution_count": null,
   "metadata": {},
   "outputs": [],
   "source": []
  }
 ],
 "metadata": {
  "kernelspec": {
   "display_name": "Python 3",
   "language": "python",
   "name": "python3"
  },
  "language_info": {
   "codemirror_mode": {
    "name": "ipython",
    "version": 3
   },
   "file_extension": ".py",
   "mimetype": "text/x-python",
   "name": "python",
   "nbconvert_exporter": "python",
   "pygments_lexer": "ipython3",
   "version": "3.11.3"
  },
  "orig_nbformat": 4
 },
 "nbformat": 4,
 "nbformat_minor": 2
}
