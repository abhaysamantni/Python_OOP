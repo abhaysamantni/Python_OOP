{
 "cells": [
  {
   "cell_type": "code",
   "execution_count": 2,
   "metadata": {},
   "outputs": [
    {
     "name": "stdout",
     "output_type": "stream",
     "text": [
      "<shape.Shape object at 0x0000028C8E81BB90>\n",
      "White\n",
      "<shape.Shape object at 0x0000028C8E794A50>\n",
      "blue\n",
      "<shape.Rectangle object at 0x0000028C8D342810>\n",
      "Black\n"
     ]
    }
   ],
   "source": [
    "import shape\n",
    "\n",
    "s1 = shape.Shape()\n",
    "print(s1)\n",
    "\n",
    "print(s1.get_fillColor())\n",
    "\n",
    "\n",
    "s2 = shape.Shape()\n",
    "print(s2)\n",
    "s2.set_fillColor(\"blue\")\n",
    "print(s2.get_fillColor())\n",
    "\n",
    "r1 = shape.Rectangle()\n",
    "print(r1)\n",
    "\n",
    "print(r1.get_borderColor())\n",
    "print(s1.borderWidth)"
   ]
  }
 ],
 "metadata": {
  "kernelspec": {
   "display_name": "Python 3",
   "language": "python",
   "name": "python3"
  },
  "language_info": {
   "codemirror_mode": {
    "name": "ipython",
    "version": 3
   },
   "file_extension": ".py",
   "mimetype": "text/x-python",
   "name": "python",
   "nbconvert_exporter": "python",
   "pygments_lexer": "ipython3",
   "version": "3.11.3"
  },
  "orig_nbformat": 4
 },
 "nbformat": 4,
 "nbformat_minor": 2
}
